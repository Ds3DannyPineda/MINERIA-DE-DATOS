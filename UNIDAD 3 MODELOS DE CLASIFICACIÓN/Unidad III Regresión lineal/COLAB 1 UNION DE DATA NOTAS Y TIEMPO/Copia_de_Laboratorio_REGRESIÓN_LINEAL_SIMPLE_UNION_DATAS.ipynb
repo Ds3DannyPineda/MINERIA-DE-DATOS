{
  "nbformat": 4,
  "nbformat_minor": 0,
  "metadata": {
    "colab": {
      "provenance": []
    },
    "kernelspec": {
      "name": "python3",
      "display_name": "Python 3"
    },
    "language_info": {
      "name": "python"
    }
  },
  "cells": [
    {
      "cell_type": "markdown",
      "source": [
        "**REGRESIÓN LINEAL**\n",
        "\n",
        "La regresión lineal es una técnica estadística que se utiliza para modelar la relación entre una variable dependiente y una o más variables independientes. El objetivo de la regresión lineal es encontrar una línea recta que mejor represente la relación entre estas variables."
      ],
      "metadata": {
        "id": "BxBKMqinn-SI"
      }
    },
    {
      "cell_type": "markdown",
      "source": [
        "**Regresión lineal simple:** Este tipo de regresión lineal involucra solo dos variables, una variable independiente y una variable dependiente. La relación entre las dos variables se modela mediante una línea recta."
      ],
      "metadata": {
        "id": "w2_FV2lKok-X"
      }
    },
    {
      "cell_type": "markdown",
      "source": [
        "Supongamos que se tiene un conjunto de datos que muestra la cantidad de tiempo que los estudiantes pasan estudiando y sus calificaciones en un examen. El objetivo es determinar si hay una relación lineal entre el tiempo de estudio y las calificaciones, y si es así, utilizar la regresión lineal para predecir las calificaciones de un estudiante en función del tiempo que pasan estudiando."
      ],
      "metadata": {
        "id": "5FL-8nUpkfTH"
      }
    },
    {
      "cell_type": "markdown",
      "source": [
        "Primero, se deben importar las bibliotecas necesarias y cargar los datos en un DataFrame de Pandas:"
      ],
      "metadata": {
        "id": "iC-9QQ2TkxeM"
      }
    },
    {
      "cell_type": "code",
      "execution_count": 1,
      "metadata": {
        "colab": {
          "base_uri": "https://localhost:8080/"
        },
        "id": "LtoGJ6SChWvy",
        "outputId": "97e20cdf-bf24-47da-9bb7-5c6197e4fb0f"
      },
      "outputs": [
        {
          "output_type": "stream",
          "name": "stdout",
          "text": [
            "    Tiempo  Calificación\n",
            "0        1            60\n",
            "1        2            70\n",
            "2        3            75\n",
            "3        4            80\n",
            "4        5            85\n",
            "5        6            90\n",
            "6        7            92\n",
            "7        8            94\n",
            "8        9            96\n",
            "9       10            98\n",
            "10       2            60\n",
            "11       1            50\n",
            "12       2            20\n",
            "13       1            50\n",
            "14       2            20\n",
            "15       1            60\n",
            "16       5            60\n",
            "17       6            30\n",
            "18       2            30\n",
            "19       3            15\n",
            "20      10            75\n",
            "21      10            82\n",
            "22      11            87\n",
            "23      12            91\n",
            "24      15            78\n",
            "25      16            89\n",
            "26      17            94\n",
            "27      18            81\n",
            "28      16            76\n",
            "29      20            93\n",
            "30       1            23\n",
            "31       2            34\n",
            "32       3            45\n",
            "33       4            18\n",
            "34       5            50\n",
            "35       6            29\n",
            "36       8            12\n",
            "37       9            56\n",
            "38       7            37\n",
            "39       1            41\n",
            "40      10            89\n",
            "41      19            93\n",
            "42      13            82\n",
            "43      15            87\n",
            "44      16            91\n",
            "45      14            95\n",
            "46      25            84\n",
            "47      24            88\n",
            "48      23            83\n",
            "49      19            90\n",
            "50      11            81\n",
            "51      12            94\n",
            "52      15            86\n",
            "53      14            85\n",
            "54      16            97\n",
            "55      13            92\n",
            "56      15            98\n",
            "57      12            80\n",
            "58      12            96\n",
            "59      20            99\n"
          ]
        }
      ],
      "source": [
        "import pandas as pd\n",
        "import numpy as np\n",
        "from sklearn.linear_model import LinearRegression\n",
        "import matplotlib.pyplot as plt\n",
        "\n",
        "# cargar los datos\n",
        "\n",
        "datos = {\n",
        "    'Tiempo': [1, 2, 3, 4, 5, 6, 7, 8, 9, 10,\n",
        "               2, 1, 2, 1, 2, 1, 5, 6, 2, 3,\n",
        "               10,10,11,12,15,16,17,18,16,20,\n",
        "               1, 2, 3, 4, 5, 6, 8, 9, 7, 1,\n",
        "               10,19,13,15,16,14,25,24,23,19,\n",
        "               11,12,15,14,16,13,15,12,12,20],\n",
        "    'Calificación': [60, 70, 75, 80, 85, 90, 92, 94, 96, 98,\n",
        "                     60, 50, 20, 50, 20, 60, 60, 30, 30, 15,\n",
        "                     75, 82, 87, 91, 78, 89, 94, 81, 76, 93,\n",
        "                     23, 34, 45, 18, 50, 29, 12, 56, 37, 41,\n",
        "                     89, 93, 82, 87, 91, 95, 84, 88, 83, 90,\n",
        "                     81, 94, 86, 85, 97, 92, 98, 80, 96, 99]\n",
        "}\n",
        "\n",
        "data = pd.DataFrame(datos)\n",
        "\n",
        "data.to_csv(\"datos_estudiantes.csv\", index=False)\n",
        "# visualizar los primeros registros\n",
        "print(data)"
      ]
    },
    {
      "cell_type": "markdown",
      "source": [
        "El archivo \"datos_estudiantes.csv\" contiene los datos de 10 estudiantes, que se presentan en la siguiente tabla:"
      ],
      "metadata": {
        "id": "sGWTfP7Tk_ge"
      }
    },
    {
      "cell_type": "markdown",
      "source": [
        "Ahora se van a agregar 50 datos más a la lista"
      ],
      "metadata": {
        "id": "ALogtzPPT732"
      }
    },
    {
      "cell_type": "code",
      "source": [
        "import pandas as pd\n",
        "import glob\n",
        "\n",
        "# Rutas donde se encuentran los archivos CSV\n",
        "ruta_archivos = [\n",
        "    '/content/Datos_Estudiantes_Maicol Lojano.csv',\n",
        "    '/content/danny datos_estudiantes.csv',\n",
        "    '/content/datos_estudiantes (1).csv',\n",
        "    '/content/datos_estudiantes_Ariel_Saquicela.csv',\n",
        "    '/content/datos_estudiantes_Carlos Astudillo.csv',\n",
        "    '/content/datos_estudiantes_Jonnathan.csv',\n",
        "    '/content/datos_estudiantes_Jose_munoz.csv',\n",
        "    '/content/datos_estudiantes_Paul Rodriguez.csv',\n",
        "    '/content/datos_estudiantes_paula_gomez.csv',\n",
        "    '/content/datos_estudiantes_victorcab.csv'\n",
        "]\n",
        "\n",
        "# Lista para almacenar los DataFrames de cada archivo CSV\n",
        "dfs = []\n",
        "\n",
        "# Leer cada archivo CSV y almacenarlo en la lista de DataFrames\n",
        "for archivo in ruta_archivos:\n",
        "    # Leer el archivo CSV\n",
        "    df = pd.read_csv(archivo)\n",
        "\n",
        "    # Verificar si las columnas 'Tiempo' y 'Calificación' están presentes\n",
        "    if 'Tiempo' in df.columns and 'Calificación' in df.columns:\n",
        "        # Seleccionar solo las columnas 'Tiempo' y 'Calificación'\n",
        "        df = df[['Tiempo', 'Calificación']]\n",
        "\n",
        "        # Agregar el DataFrame filtrado a la lista\n",
        "        dfs.append(df)\n",
        "    else:\n",
        "        print(f\"El archivo {archivo} no tiene las columnas 'Tiempo' y 'Calificación'.\")\n",
        "\n",
        "# Concatenar todos los DataFrames en uno solo\n",
        "df_final = pd.concat(dfs, ignore_index=True)\n",
        "\n",
        "# Mostrar las primeras filas del DataFrame final para verificar\n",
        "print(df_final.head())\n",
        "\n",
        "# Guardar el DataFrame final en un archivo CSV\n",
        "df_final.to_csv('/content/datos_completos.csv', index=False)\n",
        "\n",
        "# Mensaje de confirmación\n",
        "print(\"Se ha creado el archivo 'datos_completos.csv' con la información combinada de todos los archivos CSV.\")\n"
      ],
      "metadata": {
        "colab": {
          "base_uri": "https://localhost:8080/"
        },
        "id": "6Z-OheznZ2_l",
        "outputId": "f7253237-3f88-40a8-a4f6-f1bd2c2b2f4e"
      },
      "execution_count": 7,
      "outputs": [
        {
          "output_type": "stream",
          "name": "stdout",
          "text": [
            "   Tiempo  Calificación\n",
            "0       1            60\n",
            "1       2            70\n",
            "2       3            75\n",
            "3       4            80\n",
            "4       5            85\n",
            "Se ha creado el archivo 'datos_completos.csv' con la información combinada de todos los archivos CSV.\n"
          ]
        }
      ]
    },
    {
      "cell_type": "code",
      "source": [
        "df=pd.read_csv('/content/datos_completos.csv')\n",
        "df"
      ],
      "metadata": {
        "colab": {
          "base_uri": "https://localhost:8080/",
          "height": 423
        },
        "id": "_UaWlC7mbepr",
        "outputId": "eff135b7-b181-4435-fe5b-8d8f6bbba6ba"
      },
      "execution_count": 10,
      "outputs": [
        {
          "output_type": "execute_result",
          "data": {
            "text/plain": [
              "     Tiempo  Calificación\n",
              "0         1            60\n",
              "1         2            70\n",
              "2         3            75\n",
              "3         4            80\n",
              "4         5            85\n",
              "..      ...           ...\n",
              "596       6             4\n",
              "597       7            42\n",
              "598       8            44\n",
              "599       9            46\n",
              "600      10            48\n",
              "\n",
              "[601 rows x 2 columns]"
            ],
            "text/html": [
              "\n",
              "  <div id=\"df-c800d90e-2659-4137-a112-b30fc3fb2d8a\" class=\"colab-df-container\">\n",
              "    <div>\n",
              "<style scoped>\n",
              "    .dataframe tbody tr th:only-of-type {\n",
              "        vertical-align: middle;\n",
              "    }\n",
              "\n",
              "    .dataframe tbody tr th {\n",
              "        vertical-align: top;\n",
              "    }\n",
              "\n",
              "    .dataframe thead th {\n",
              "        text-align: right;\n",
              "    }\n",
              "</style>\n",
              "<table border=\"1\" class=\"dataframe\">\n",
              "  <thead>\n",
              "    <tr style=\"text-align: right;\">\n",
              "      <th></th>\n",
              "      <th>Tiempo</th>\n",
              "      <th>Calificación</th>\n",
              "    </tr>\n",
              "  </thead>\n",
              "  <tbody>\n",
              "    <tr>\n",
              "      <th>0</th>\n",
              "      <td>1</td>\n",
              "      <td>60</td>\n",
              "    </tr>\n",
              "    <tr>\n",
              "      <th>1</th>\n",
              "      <td>2</td>\n",
              "      <td>70</td>\n",
              "    </tr>\n",
              "    <tr>\n",
              "      <th>2</th>\n",
              "      <td>3</td>\n",
              "      <td>75</td>\n",
              "    </tr>\n",
              "    <tr>\n",
              "      <th>3</th>\n",
              "      <td>4</td>\n",
              "      <td>80</td>\n",
              "    </tr>\n",
              "    <tr>\n",
              "      <th>4</th>\n",
              "      <td>5</td>\n",
              "      <td>85</td>\n",
              "    </tr>\n",
              "    <tr>\n",
              "      <th>...</th>\n",
              "      <td>...</td>\n",
              "      <td>...</td>\n",
              "    </tr>\n",
              "    <tr>\n",
              "      <th>596</th>\n",
              "      <td>6</td>\n",
              "      <td>4</td>\n",
              "    </tr>\n",
              "    <tr>\n",
              "      <th>597</th>\n",
              "      <td>7</td>\n",
              "      <td>42</td>\n",
              "    </tr>\n",
              "    <tr>\n",
              "      <th>598</th>\n",
              "      <td>8</td>\n",
              "      <td>44</td>\n",
              "    </tr>\n",
              "    <tr>\n",
              "      <th>599</th>\n",
              "      <td>9</td>\n",
              "      <td>46</td>\n",
              "    </tr>\n",
              "    <tr>\n",
              "      <th>600</th>\n",
              "      <td>10</td>\n",
              "      <td>48</td>\n",
              "    </tr>\n",
              "  </tbody>\n",
              "</table>\n",
              "<p>601 rows × 2 columns</p>\n",
              "</div>\n",
              "    <div class=\"colab-df-buttons\">\n",
              "\n",
              "  <div class=\"colab-df-container\">\n",
              "    <button class=\"colab-df-convert\" onclick=\"convertToInteractive('df-c800d90e-2659-4137-a112-b30fc3fb2d8a')\"\n",
              "            title=\"Convert this dataframe to an interactive table.\"\n",
              "            style=\"display:none;\">\n",
              "\n",
              "  <svg xmlns=\"http://www.w3.org/2000/svg\" height=\"24px\" viewBox=\"0 -960 960 960\">\n",
              "    <path d=\"M120-120v-720h720v720H120Zm60-500h600v-160H180v160Zm220 220h160v-160H400v160Zm0 220h160v-160H400v160ZM180-400h160v-160H180v160Zm440 0h160v-160H620v160ZM180-180h160v-160H180v160Zm440 0h160v-160H620v160Z\"/>\n",
              "  </svg>\n",
              "    </button>\n",
              "\n",
              "  <style>\n",
              "    .colab-df-container {\n",
              "      display:flex;\n",
              "      gap: 12px;\n",
              "    }\n",
              "\n",
              "    .colab-df-convert {\n",
              "      background-color: #E8F0FE;\n",
              "      border: none;\n",
              "      border-radius: 50%;\n",
              "      cursor: pointer;\n",
              "      display: none;\n",
              "      fill: #1967D2;\n",
              "      height: 32px;\n",
              "      padding: 0 0 0 0;\n",
              "      width: 32px;\n",
              "    }\n",
              "\n",
              "    .colab-df-convert:hover {\n",
              "      background-color: #E2EBFA;\n",
              "      box-shadow: 0px 1px 2px rgba(60, 64, 67, 0.3), 0px 1px 3px 1px rgba(60, 64, 67, 0.15);\n",
              "      fill: #174EA6;\n",
              "    }\n",
              "\n",
              "    .colab-df-buttons div {\n",
              "      margin-bottom: 4px;\n",
              "    }\n",
              "\n",
              "    [theme=dark] .colab-df-convert {\n",
              "      background-color: #3B4455;\n",
              "      fill: #D2E3FC;\n",
              "    }\n",
              "\n",
              "    [theme=dark] .colab-df-convert:hover {\n",
              "      background-color: #434B5C;\n",
              "      box-shadow: 0px 1px 3px 1px rgba(0, 0, 0, 0.15);\n",
              "      filter: drop-shadow(0px 1px 2px rgba(0, 0, 0, 0.3));\n",
              "      fill: #FFFFFF;\n",
              "    }\n",
              "  </style>\n",
              "\n",
              "    <script>\n",
              "      const buttonEl =\n",
              "        document.querySelector('#df-c800d90e-2659-4137-a112-b30fc3fb2d8a button.colab-df-convert');\n",
              "      buttonEl.style.display =\n",
              "        google.colab.kernel.accessAllowed ? 'block' : 'none';\n",
              "\n",
              "      async function convertToInteractive(key) {\n",
              "        const element = document.querySelector('#df-c800d90e-2659-4137-a112-b30fc3fb2d8a');\n",
              "        const dataTable =\n",
              "          await google.colab.kernel.invokeFunction('convertToInteractive',\n",
              "                                                    [key], {});\n",
              "        if (!dataTable) return;\n",
              "\n",
              "        const docLinkHtml = 'Like what you see? Visit the ' +\n",
              "          '<a target=\"_blank\" href=https://colab.research.google.com/notebooks/data_table.ipynb>data table notebook</a>'\n",
              "          + ' to learn more about interactive tables.';\n",
              "        element.innerHTML = '';\n",
              "        dataTable['output_type'] = 'display_data';\n",
              "        await google.colab.output.renderOutput(dataTable, element);\n",
              "        const docLink = document.createElement('div');\n",
              "        docLink.innerHTML = docLinkHtml;\n",
              "        element.appendChild(docLink);\n",
              "      }\n",
              "    </script>\n",
              "  </div>\n",
              "\n",
              "\n",
              "<div id=\"df-5fb4447a-da2d-431f-a33a-f9cb76d26a90\">\n",
              "  <button class=\"colab-df-quickchart\" onclick=\"quickchart('df-5fb4447a-da2d-431f-a33a-f9cb76d26a90')\"\n",
              "            title=\"Suggest charts\"\n",
              "            style=\"display:none;\">\n",
              "\n",
              "<svg xmlns=\"http://www.w3.org/2000/svg\" height=\"24px\"viewBox=\"0 0 24 24\"\n",
              "     width=\"24px\">\n",
              "    <g>\n",
              "        <path d=\"M19 3H5c-1.1 0-2 .9-2 2v14c0 1.1.9 2 2 2h14c1.1 0 2-.9 2-2V5c0-1.1-.9-2-2-2zM9 17H7v-7h2v7zm4 0h-2V7h2v10zm4 0h-2v-4h2v4z\"/>\n",
              "    </g>\n",
              "</svg>\n",
              "  </button>\n",
              "\n",
              "<style>\n",
              "  .colab-df-quickchart {\n",
              "      --bg-color: #E8F0FE;\n",
              "      --fill-color: #1967D2;\n",
              "      --hover-bg-color: #E2EBFA;\n",
              "      --hover-fill-color: #174EA6;\n",
              "      --disabled-fill-color: #AAA;\n",
              "      --disabled-bg-color: #DDD;\n",
              "  }\n",
              "\n",
              "  [theme=dark] .colab-df-quickchart {\n",
              "      --bg-color: #3B4455;\n",
              "      --fill-color: #D2E3FC;\n",
              "      --hover-bg-color: #434B5C;\n",
              "      --hover-fill-color: #FFFFFF;\n",
              "      --disabled-bg-color: #3B4455;\n",
              "      --disabled-fill-color: #666;\n",
              "  }\n",
              "\n",
              "  .colab-df-quickchart {\n",
              "    background-color: var(--bg-color);\n",
              "    border: none;\n",
              "    border-radius: 50%;\n",
              "    cursor: pointer;\n",
              "    display: none;\n",
              "    fill: var(--fill-color);\n",
              "    height: 32px;\n",
              "    padding: 0;\n",
              "    width: 32px;\n",
              "  }\n",
              "\n",
              "  .colab-df-quickchart:hover {\n",
              "    background-color: var(--hover-bg-color);\n",
              "    box-shadow: 0 1px 2px rgba(60, 64, 67, 0.3), 0 1px 3px 1px rgba(60, 64, 67, 0.15);\n",
              "    fill: var(--button-hover-fill-color);\n",
              "  }\n",
              "\n",
              "  .colab-df-quickchart-complete:disabled,\n",
              "  .colab-df-quickchart-complete:disabled:hover {\n",
              "    background-color: var(--disabled-bg-color);\n",
              "    fill: var(--disabled-fill-color);\n",
              "    box-shadow: none;\n",
              "  }\n",
              "\n",
              "  .colab-df-spinner {\n",
              "    border: 2px solid var(--fill-color);\n",
              "    border-color: transparent;\n",
              "    border-bottom-color: var(--fill-color);\n",
              "    animation:\n",
              "      spin 1s steps(1) infinite;\n",
              "  }\n",
              "\n",
              "  @keyframes spin {\n",
              "    0% {\n",
              "      border-color: transparent;\n",
              "      border-bottom-color: var(--fill-color);\n",
              "      border-left-color: var(--fill-color);\n",
              "    }\n",
              "    20% {\n",
              "      border-color: transparent;\n",
              "      border-left-color: var(--fill-color);\n",
              "      border-top-color: var(--fill-color);\n",
              "    }\n",
              "    30% {\n",
              "      border-color: transparent;\n",
              "      border-left-color: var(--fill-color);\n",
              "      border-top-color: var(--fill-color);\n",
              "      border-right-color: var(--fill-color);\n",
              "    }\n",
              "    40% {\n",
              "      border-color: transparent;\n",
              "      border-right-color: var(--fill-color);\n",
              "      border-top-color: var(--fill-color);\n",
              "    }\n",
              "    60% {\n",
              "      border-color: transparent;\n",
              "      border-right-color: var(--fill-color);\n",
              "    }\n",
              "    80% {\n",
              "      border-color: transparent;\n",
              "      border-right-color: var(--fill-color);\n",
              "      border-bottom-color: var(--fill-color);\n",
              "    }\n",
              "    90% {\n",
              "      border-color: transparent;\n",
              "      border-bottom-color: var(--fill-color);\n",
              "    }\n",
              "  }\n",
              "</style>\n",
              "\n",
              "  <script>\n",
              "    async function quickchart(key) {\n",
              "      const quickchartButtonEl =\n",
              "        document.querySelector('#' + key + ' button');\n",
              "      quickchartButtonEl.disabled = true;  // To prevent multiple clicks.\n",
              "      quickchartButtonEl.classList.add('colab-df-spinner');\n",
              "      try {\n",
              "        const charts = await google.colab.kernel.invokeFunction(\n",
              "            'suggestCharts', [key], {});\n",
              "      } catch (error) {\n",
              "        console.error('Error during call to suggestCharts:', error);\n",
              "      }\n",
              "      quickchartButtonEl.classList.remove('colab-df-spinner');\n",
              "      quickchartButtonEl.classList.add('colab-df-quickchart-complete');\n",
              "    }\n",
              "    (() => {\n",
              "      let quickchartButtonEl =\n",
              "        document.querySelector('#df-5fb4447a-da2d-431f-a33a-f9cb76d26a90 button');\n",
              "      quickchartButtonEl.style.display =\n",
              "        google.colab.kernel.accessAllowed ? 'block' : 'none';\n",
              "    })();\n",
              "  </script>\n",
              "</div>\n",
              "\n",
              "  <div id=\"id_5aa392b2-40f2-4276-8682-e92dc9d8f027\">\n",
              "    <style>\n",
              "      .colab-df-generate {\n",
              "        background-color: #E8F0FE;\n",
              "        border: none;\n",
              "        border-radius: 50%;\n",
              "        cursor: pointer;\n",
              "        display: none;\n",
              "        fill: #1967D2;\n",
              "        height: 32px;\n",
              "        padding: 0 0 0 0;\n",
              "        width: 32px;\n",
              "      }\n",
              "\n",
              "      .colab-df-generate:hover {\n",
              "        background-color: #E2EBFA;\n",
              "        box-shadow: 0px 1px 2px rgba(60, 64, 67, 0.3), 0px 1px 3px 1px rgba(60, 64, 67, 0.15);\n",
              "        fill: #174EA6;\n",
              "      }\n",
              "\n",
              "      [theme=dark] .colab-df-generate {\n",
              "        background-color: #3B4455;\n",
              "        fill: #D2E3FC;\n",
              "      }\n",
              "\n",
              "      [theme=dark] .colab-df-generate:hover {\n",
              "        background-color: #434B5C;\n",
              "        box-shadow: 0px 1px 3px 1px rgba(0, 0, 0, 0.15);\n",
              "        filter: drop-shadow(0px 1px 2px rgba(0, 0, 0, 0.3));\n",
              "        fill: #FFFFFF;\n",
              "      }\n",
              "    </style>\n",
              "    <button class=\"colab-df-generate\" onclick=\"generateWithVariable('df')\"\n",
              "            title=\"Generate code using this dataframe.\"\n",
              "            style=\"display:none;\">\n",
              "\n",
              "  <svg xmlns=\"http://www.w3.org/2000/svg\" height=\"24px\"viewBox=\"0 0 24 24\"\n",
              "       width=\"24px\">\n",
              "    <path d=\"M7,19H8.4L18.45,9,17,7.55,7,17.6ZM5,21V16.75L18.45,3.32a2,2,0,0,1,2.83,0l1.4,1.43a1.91,1.91,0,0,1,.58,1.4,1.91,1.91,0,0,1-.58,1.4L9.25,21ZM18.45,9,17,7.55Zm-12,3A5.31,5.31,0,0,0,4.9,8.1,5.31,5.31,0,0,0,1,6.5,5.31,5.31,0,0,0,4.9,4.9,5.31,5.31,0,0,0,6.5,1,5.31,5.31,0,0,0,8.1,4.9,5.31,5.31,0,0,0,12,6.5,5.46,5.46,0,0,0,6.5,12Z\"/>\n",
              "  </svg>\n",
              "    </button>\n",
              "    <script>\n",
              "      (() => {\n",
              "      const buttonEl =\n",
              "        document.querySelector('#id_5aa392b2-40f2-4276-8682-e92dc9d8f027 button.colab-df-generate');\n",
              "      buttonEl.style.display =\n",
              "        google.colab.kernel.accessAllowed ? 'block' : 'none';\n",
              "\n",
              "      buttonEl.onclick = () => {\n",
              "        google.colab.notebook.generateWithVariable('df');\n",
              "      }\n",
              "      })();\n",
              "    </script>\n",
              "  </div>\n",
              "\n",
              "    </div>\n",
              "  </div>\n"
            ],
            "application/vnd.google.colaboratory.intrinsic+json": {
              "type": "dataframe",
              "variable_name": "df",
              "summary": "{\n  \"name\": \"df\",\n  \"rows\": 601,\n  \"fields\": [\n    {\n      \"column\": \"Tiempo\",\n      \"properties\": {\n        \"dtype\": \"number\",\n        \"std\": 12,\n        \"min\": 1,\n        \"max\": 60,\n        \"num_unique_values\": 60,\n        \"samples\": [\n          1,\n          6,\n          37\n        ],\n        \"semantic_type\": \"\",\n        \"description\": \"\"\n      }\n    },\n    {\n      \"column\": \"Calificaci\\u00f3n\",\n      \"properties\": {\n        \"dtype\": \"number\",\n        \"std\": 37,\n        \"min\": 1,\n        \"max\": 670,\n        \"num_unique_values\": 91,\n        \"samples\": [\n          83,\n          30,\n          25\n        ],\n        \"semantic_type\": \"\",\n        \"description\": \"\"\n      }\n    }\n  ]\n}"
            }
          },
          "metadata": {},
          "execution_count": 10
        }
      ]
    },
    {
      "cell_type": "markdown",
      "source": [
        "A continuación, se deben separar las variables independientes (horas de estudio) de la variable dependiente (calificacion):"
      ],
      "metadata": {
        "id": "KfI4iQ8KlNXm"
      }
    },
    {
      "cell_type": "code",
      "source": [
        "# separar las variables independientes y dependiente\n",
        "X = data.iloc[:, :-1].values\n",
        "y = data.iloc[:, 1].values"
      ],
      "metadata": {
        "id": "7h2ZHnM6hkFX"
      },
      "execution_count": 11,
      "outputs": []
    },
    {
      "cell_type": "code",
      "source": [
        "X"
      ],
      "metadata": {
        "colab": {
          "base_uri": "https://localhost:8080/"
        },
        "id": "3hz6Eny6jX5j",
        "outputId": "c0992fcf-0b93-4ebb-f71b-58a705a602a6"
      },
      "execution_count": 12,
      "outputs": [
        {
          "output_type": "execute_result",
          "data": {
            "text/plain": [
              "array([[ 1],\n",
              "       [ 2],\n",
              "       [ 3],\n",
              "       [ 4],\n",
              "       [ 5],\n",
              "       [ 6],\n",
              "       [ 7],\n",
              "       [ 8],\n",
              "       [ 9],\n",
              "       [10],\n",
              "       [ 2],\n",
              "       [ 1],\n",
              "       [ 2],\n",
              "       [ 1],\n",
              "       [ 2],\n",
              "       [ 1],\n",
              "       [ 5],\n",
              "       [ 6],\n",
              "       [ 2],\n",
              "       [ 3],\n",
              "       [10],\n",
              "       [10],\n",
              "       [11],\n",
              "       [12],\n",
              "       [15],\n",
              "       [16],\n",
              "       [17],\n",
              "       [18],\n",
              "       [16],\n",
              "       [20],\n",
              "       [ 1],\n",
              "       [ 2],\n",
              "       [ 3],\n",
              "       [ 4],\n",
              "       [ 5],\n",
              "       [ 6],\n",
              "       [ 8],\n",
              "       [ 9],\n",
              "       [ 7],\n",
              "       [ 1],\n",
              "       [10],\n",
              "       [19],\n",
              "       [13],\n",
              "       [15],\n",
              "       [16],\n",
              "       [14],\n",
              "       [25],\n",
              "       [24],\n",
              "       [23],\n",
              "       [19],\n",
              "       [11],\n",
              "       [12],\n",
              "       [15],\n",
              "       [14],\n",
              "       [16],\n",
              "       [13],\n",
              "       [15],\n",
              "       [12],\n",
              "       [12],\n",
              "       [20]])"
            ]
          },
          "metadata": {},
          "execution_count": 12
        }
      ]
    },
    {
      "cell_type": "code",
      "source": [
        "y"
      ],
      "metadata": {
        "colab": {
          "base_uri": "https://localhost:8080/"
        },
        "id": "fyt6BnTcjdOd",
        "outputId": "48509f94-5faa-41f9-ed7d-6e41c5b9f4eb"
      },
      "execution_count": 13,
      "outputs": [
        {
          "output_type": "execute_result",
          "data": {
            "text/plain": [
              "array([60, 70, 75, 80, 85, 90, 92, 94, 96, 98, 60, 50, 20, 50, 20, 60, 60,\n",
              "       30, 30, 15, 75, 82, 87, 91, 78, 89, 94, 81, 76, 93, 23, 34, 45, 18,\n",
              "       50, 29, 12, 56, 37, 41, 89, 93, 82, 87, 91, 95, 84, 88, 83, 90, 81,\n",
              "       94, 86, 85, 97, 92, 98, 80, 96, 99])"
            ]
          },
          "metadata": {},
          "execution_count": 13
        }
      ]
    },
    {
      "cell_type": "markdown",
      "source": [
        "Luego, se puede ajustar la línea de regresión utilizando el modelo de regresión lineal de Scikit-learn:"
      ],
      "metadata": {
        "id": "sFIjm6C6lcMb"
      }
    },
    {
      "cell_type": "code",
      "source": [
        "# ajustar el modelo de regresión lineal\n",
        "regressor = LinearRegression()\n",
        "regressor.fit(X, y)"
      ],
      "metadata": {
        "colab": {
          "base_uri": "https://localhost:8080/",
          "height": 74
        },
        "id": "ip2FAZU_jq6-",
        "outputId": "0f1f2b92-0107-4d5d-e12d-19b6b9613124"
      },
      "execution_count": 14,
      "outputs": [
        {
          "output_type": "execute_result",
          "data": {
            "text/plain": [
              "LinearRegression()"
            ],
            "text/html": [
              "<style>#sk-container-id-1 {color: black;background-color: white;}#sk-container-id-1 pre{padding: 0;}#sk-container-id-1 div.sk-toggleable {background-color: white;}#sk-container-id-1 label.sk-toggleable__label {cursor: pointer;display: block;width: 100%;margin-bottom: 0;padding: 0.3em;box-sizing: border-box;text-align: center;}#sk-container-id-1 label.sk-toggleable__label-arrow:before {content: \"▸\";float: left;margin-right: 0.25em;color: #696969;}#sk-container-id-1 label.sk-toggleable__label-arrow:hover:before {color: black;}#sk-container-id-1 div.sk-estimator:hover label.sk-toggleable__label-arrow:before {color: black;}#sk-container-id-1 div.sk-toggleable__content {max-height: 0;max-width: 0;overflow: hidden;text-align: left;background-color: #f0f8ff;}#sk-container-id-1 div.sk-toggleable__content pre {margin: 0.2em;color: black;border-radius: 0.25em;background-color: #f0f8ff;}#sk-container-id-1 input.sk-toggleable__control:checked~div.sk-toggleable__content {max-height: 200px;max-width: 100%;overflow: auto;}#sk-container-id-1 input.sk-toggleable__control:checked~label.sk-toggleable__label-arrow:before {content: \"▾\";}#sk-container-id-1 div.sk-estimator input.sk-toggleable__control:checked~label.sk-toggleable__label {background-color: #d4ebff;}#sk-container-id-1 div.sk-label input.sk-toggleable__control:checked~label.sk-toggleable__label {background-color: #d4ebff;}#sk-container-id-1 input.sk-hidden--visually {border: 0;clip: rect(1px 1px 1px 1px);clip: rect(1px, 1px, 1px, 1px);height: 1px;margin: -1px;overflow: hidden;padding: 0;position: absolute;width: 1px;}#sk-container-id-1 div.sk-estimator {font-family: monospace;background-color: #f0f8ff;border: 1px dotted black;border-radius: 0.25em;box-sizing: border-box;margin-bottom: 0.5em;}#sk-container-id-1 div.sk-estimator:hover {background-color: #d4ebff;}#sk-container-id-1 div.sk-parallel-item::after {content: \"\";width: 100%;border-bottom: 1px solid gray;flex-grow: 1;}#sk-container-id-1 div.sk-label:hover label.sk-toggleable__label {background-color: #d4ebff;}#sk-container-id-1 div.sk-serial::before {content: \"\";position: absolute;border-left: 1px solid gray;box-sizing: border-box;top: 0;bottom: 0;left: 50%;z-index: 0;}#sk-container-id-1 div.sk-serial {display: flex;flex-direction: column;align-items: center;background-color: white;padding-right: 0.2em;padding-left: 0.2em;position: relative;}#sk-container-id-1 div.sk-item {position: relative;z-index: 1;}#sk-container-id-1 div.sk-parallel {display: flex;align-items: stretch;justify-content: center;background-color: white;position: relative;}#sk-container-id-1 div.sk-item::before, #sk-container-id-1 div.sk-parallel-item::before {content: \"\";position: absolute;border-left: 1px solid gray;box-sizing: border-box;top: 0;bottom: 0;left: 50%;z-index: -1;}#sk-container-id-1 div.sk-parallel-item {display: flex;flex-direction: column;z-index: 1;position: relative;background-color: white;}#sk-container-id-1 div.sk-parallel-item:first-child::after {align-self: flex-end;width: 50%;}#sk-container-id-1 div.sk-parallel-item:last-child::after {align-self: flex-start;width: 50%;}#sk-container-id-1 div.sk-parallel-item:only-child::after {width: 0;}#sk-container-id-1 div.sk-dashed-wrapped {border: 1px dashed gray;margin: 0 0.4em 0.5em 0.4em;box-sizing: border-box;padding-bottom: 0.4em;background-color: white;}#sk-container-id-1 div.sk-label label {font-family: monospace;font-weight: bold;display: inline-block;line-height: 1.2em;}#sk-container-id-1 div.sk-label-container {text-align: center;}#sk-container-id-1 div.sk-container {/* jupyter's `normalize.less` sets `[hidden] { display: none; }` but bootstrap.min.css set `[hidden] { display: none !important; }` so we also need the `!important` here to be able to override the default hidden behavior on the sphinx rendered scikit-learn.org. See: https://github.com/scikit-learn/scikit-learn/issues/21755 */display: inline-block !important;position: relative;}#sk-container-id-1 div.sk-text-repr-fallback {display: none;}</style><div id=\"sk-container-id-1\" class=\"sk-top-container\"><div class=\"sk-text-repr-fallback\"><pre>LinearRegression()</pre><b>In a Jupyter environment, please rerun this cell to show the HTML representation or trust the notebook. <br />On GitHub, the HTML representation is unable to render, please try loading this page with nbviewer.org.</b></div><div class=\"sk-container\" hidden><div class=\"sk-item\"><div class=\"sk-estimator sk-toggleable\"><input class=\"sk-toggleable__control sk-hidden--visually\" id=\"sk-estimator-id-1\" type=\"checkbox\" checked><label for=\"sk-estimator-id-1\" class=\"sk-toggleable__label sk-toggleable__label-arrow\">LinearRegression</label><div class=\"sk-toggleable__content\"><pre>LinearRegression()</pre></div></div></div></div></div>"
            ]
          },
          "metadata": {},
          "execution_count": 14
        }
      ]
    },
    {
      "cell_type": "markdown",
      "source": [
        "Finalmente, se puede visualizar la línea de regresión y predecir la calificación del estudiante en función de las horas que estudia:"
      ],
      "metadata": {
        "id": "umVgczTslmb_"
      }
    },
    {
      "cell_type": "code",
      "source": [
        "# visualizar la línea de regresión\n",
        "plt.scatter(X, y, color='red')\n",
        "plt.plot(X, regressor.predict(X), color='blue')\n",
        "plt.title('Tiempo de estudio vs Calificación del porcentaje')\n",
        "plt.xlabel('Tiempo de estudio')\n",
        "plt.ylabel('Calificación')\n",
        "plt.show()\n",
        "\n",
        "# predecir la calificación de un estudiante que invierte 6 horas de studio\n",
        "horas_estudio = [[8]]\n",
        "print(\"Calificación predicha:\", regressor.predict(horas_estudio))"
      ],
      "metadata": {
        "colab": {
          "base_uri": "https://localhost:8080/",
          "height": 489
        },
        "id": "j6k44Ve2jxOX",
        "outputId": "8e6e0bc4-fcf7-456c-91ea-420d424390fe"
      },
      "execution_count": 15,
      "outputs": [
        {
          "output_type": "display_data",
          "data": {
            "text/plain": [
              "<Figure size 640x480 with 1 Axes>"
            ],
            "image/png": "[encoded data removed]"
          },
          "metadata": {}
        },
        {
          "output_type": "stream",
          "name": "stdout",
          "text": [
            "Calificación predicha: [65.45303667]\n"
          ]
        }
      ]
    },
    {
      "cell_type": "markdown",
      "source": [
        "**EVALUACIÓN DEL MODELO**\n",
        "\n",
        "Para evaluar la calidad de un modelo de regresión lineal, hay varias métricas que se pueden utilizar. Aquí se presentan algunas de las más comunes:"
      ],
      "metadata": {
        "id": "9F3ynKONm0wP"
      }
    },
    {
      "cell_type": "markdown",
      "source": [
        "**1. Error cuadrático medio (MSE):** Esta métrica calcula el promedio de los errores al cuadrado entre las predicciones y los valores reales. Un MSE más bajo indica un mejor ajuste del modelo."
      ],
      "metadata": {
        "id": "ouUR1jR2m_z_"
      }
    },
    {
      "cell_type": "code",
      "source": [
        "from sklearn.metrics import mean_squared_error\n",
        "y_pred = regressor.predict(X)\n",
        "\n",
        "# Calcular el MSE\n",
        "mse = mean_squared_error(y, y_pred)\n",
        "print(\"MSE:\", mse)\n"
      ],
      "metadata": {
        "colab": {
          "base_uri": "https://localhost:8080/"
        },
        "id": "Zs6M4bSIew4I",
        "outputId": "e5d05274-0c29-4272-ac12-1f5811fdaf57"
      },
      "execution_count": 19,
      "outputs": [
        {
          "output_type": "stream",
          "name": "stdout",
          "text": [
            "MSE: 376.535114946558\n"
          ]
        }
      ]
    },
    {
      "cell_type": "markdown",
      "source": [
        "**2. Coeficiente de determinación (R2):** Esta métrica mide la proporción de la varianza en la variable dependiente que se puede explicar por la variable independiente. Un R2 más alto indica un mejor ajuste del modelo."
      ],
      "metadata": {
        "id": "j9C2wEQ7nOkq"
      }
    },
    {
      "cell_type": "code",
      "source": [
        "from sklearn.metrics import r2_score\n",
        "\n",
        "# calcular el R2\n",
        "r2 = r2_score(y, y_pred)\n",
        "print(\"R2:\", r2)"
      ],
      "metadata": {
        "colab": {
          "base_uri": "https://localhost:8080/"
        },
        "id": "fhmCMGSpnW8i",
        "outputId": "fb813dca-a91d-4edc-e1f1-ac0624df135f"
      },
      "execution_count": 20,
      "outputs": [
        {
          "output_type": "stream",
          "name": "stdout",
          "text": [
            "R2: 0.4483235492646591\n"
          ]
        }
      ]
    },
    {
      "cell_type": "markdown",
      "source": [
        "**3. Gráfico de residuos:** Un gráfico de residuos muestra la diferencia entre los valores reales y las predicciones en función de las variables independientes. Si las predicciones son precisas, los residuos deberían estar distribuidos aleatoriamente alrededor de cero. Si hay un patrón en los residuos, puede ser una indicación de que el modelo no está capturando completamente las relaciones entre las variables."
      ],
      "metadata": {
        "id": "rJH7GkaDna5Y"
      }
    },
    {
      "cell_type": "code",
      "source": [
        "# crear un gráfico de residuos\n",
        "residuos = y - y_pred\n",
        "plt.scatter(X, residuos)\n",
        "plt.axhline(y=0, color='black', linestyle='--')\n",
        "plt.title('Gráfico de residuos')\n",
        "plt.xlabel('Horas trabajadas')\n",
        "plt.ylabel('Residuos')\n",
        "\n",
        "plt.show()"
      ],
      "metadata": {
        "colab": {
          "base_uri": "https://localhost:8080/",
          "height": 472
        },
        "id": "AT2xDZZxnhGC",
        "outputId": "4c348c0d-c700-4544-c8bb-59a78f8d416a"
      },
      "execution_count": 18,
      "outputs": [
        {
          "output_type": "display_data",
          "data": {
            "text/plain": [
              "<Figure size 640x480 with 1 Axes>"
            ],
            "image/png": "[encoded data removed]"
          },
          "metadata": {}
        }
      ]
    },
    {
      "cell_type": "markdown",
      "source": [
        "Estas métricas pueden ayudar a evaluar la calidad de un modelo de regresión lineal y determinar si es adecuado para el conjunto de datos y el problema en cuestión. Es importante tener en cuenta que ninguna métrica por sí sola puede decir si un modelo es adecuado, por lo que se deben considerar varias métricas en conjunto."
      ],
      "metadata": {
        "id": "lhBS_GEpn0Tz"
      }
    }
  ]
}