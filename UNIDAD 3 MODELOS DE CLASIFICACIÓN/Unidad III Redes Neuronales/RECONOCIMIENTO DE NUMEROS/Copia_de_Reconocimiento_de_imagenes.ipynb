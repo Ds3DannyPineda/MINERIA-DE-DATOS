{
  "nbformat": 4,
  "nbformat_minor": 0,
  "metadata": {
    "colab": {
      "provenance": []
    },
    "kernelspec": {
      "name": "python3",
      "display_name": "Python 3"
    },
    "language_info": {
      "name": "python"
    }
  },
  "cells": [
    {
      "cell_type": "code",
      "source": [
        "import tensorflow as tf\n",
        "from tensorflow.keras import layers, models\n",
        "import cv2\n",
        "import numpy as np\n",
        "import os"
      ],
      "metadata": {
        "id": "XOrxQ6egl_3q"
      },
      "execution_count": 18,
      "outputs": []
    },
    {
      "cell_type": "code",
      "source": [
        "# 1. Cargar los datos de entrenamiento (en este caso, la base de datos MNIST)\n",
        "mnist = tf.keras.datasets.mnist\n",
        "(training_images, training_labels), (test_images, test_labels) = mnist.load_data()\n",
        "\n",
        "# Normalizar y redimensionar las imágenes para que estén en el rango [0, 1] y tengan el tamaño adecuado para la CNN\n",
        "training_images = training_images.astype(np.float32) / 255.0\n",
        "test_images = test_images.astype(np.float32) / 255.0\n",
        "\n",
        "# Agregar una dimensión extra para indicar el número de canales (en este caso, solo 1 canal porque son imágenes en escala de grises)\n",
        "training_images = np.expand_dims(training_images, axis=-1)\n",
        "test_images = np.expand_dims(test_images, axis=-1)\n",
        "\n"
      ],
      "metadata": {
        "id": "FsccT0lnmC8h",
        "colab": {
          "base_uri": "https://localhost:8080/"
        },
        "outputId": "eee5317b-6391-4643-e6b1-16b02b2beea9"
      },
      "execution_count": 2,
      "outputs": [
        {
          "output_type": "stream",
          "name": "stdout",
          "text": [
            "Downloading data from https://storage.googleapis.com/tensorflow/tf-keras-datasets/mnist.npz\n",
            "11490434/11490434 [==============================] - 0s 0us/step\n"
          ]
        }
      ]
    },
    {
      "cell_type": "code",
      "source": [
        "# 2. Definir y entrenar el modelo CNN\n",
        "model = models.Sequential([\n",
        "    layers.Conv2D(32, (3, 3), activation='relu', input_shape=(28, 28, 1)),\n",
        "    layers.MaxPooling2D((2, 2)),\n",
        "    layers.Conv2D(64, (3, 3), activation='relu'),\n",
        "    layers.MaxPooling2D((2, 2)),\n",
        "    layers.Conv2D(128, (3, 3), activation='relu'),\n",
        "    layers.MaxPooling2D((2, 2)),\n",
        "    layers.Flatten(),\n",
        "    layers.Dense(64, activation='relu'),\n",
        "    layers.Dense(10, activation='softmax')\n",
        "])\n",
        "\n",
        "model.compile(optimizer='adam',\n",
        "              loss='sparse_categorical_crossentropy',\n",
        "              metrics=['accuracy'])\n",
        "\n",
        "model.fit(training_images, training_labels, epochs=5, batch_size=32)\n",
        "\n"
      ],
      "metadata": {
        "colab": {
          "base_uri": "https://localhost:8080/"
        },
        "id": "Nb8wdj15mFig",
        "outputId": "157da25f-7066-4bf8-c20d-5b55dc69850f"
      },
      "execution_count": 3,
      "outputs": [
        {
          "output_type": "stream",
          "name": "stdout",
          "text": [
            "Epoch 1/5\n",
            "1875/1875 [==============================] - 65s 34ms/step - loss: 0.1930 - accuracy: 0.9409\n",
            "Epoch 2/5\n",
            "1875/1875 [==============================] - 53s 28ms/step - loss: 0.0664 - accuracy: 0.9791\n",
            "Epoch 3/5\n",
            "1875/1875 [==============================] - 53s 28ms/step - loss: 0.0465 - accuracy: 0.9858\n",
            "Epoch 4/5\n",
            "1875/1875 [==============================] - 53s 28ms/step - loss: 0.0356 - accuracy: 0.9889\n",
            "Epoch 5/5\n",
            "1875/1875 [==============================] - 53s 28ms/step - loss: 0.0290 - accuracy: 0.9906\n"
          ]
        },
        {
          "output_type": "execute_result",
          "data": {
            "text/plain": [
              "<keras.src.callbacks.History at 0x7991c46a3c70>"
            ]
          },
          "metadata": {},
          "execution_count": 3
        }
      ]
    },
    {
      "cell_type": "code",
      "source": [
        "from google.colab import drive\n",
        "drive.mount('/content/drive')"
      ],
      "metadata": {
        "colab": {
          "base_uri": "https://localhost:8080/"
        },
        "id": "LKFbaGaMxVvU",
        "outputId": "8bdd2a4c-653e-490e-e057-07a677cbe08f"
      },
      "execution_count": 7,
      "outputs": [
        {
          "output_type": "stream",
          "name": "stdout",
          "text": [
            "Mounted at /content/drive\n"
          ]
        }
      ]
    },
    {
      "cell_type": "code",
      "source": [
        "# Ruta de la carpeta que contiene las imágenes\n",
        "folder_path = '/content/drive/MyDrive/Reconocimiento imagenes'\n",
        "\n",
        "# Cargar el modelo (asegúrate de tener 'model' definido previamente)\n",
        "# model = ...\n",
        "\n",
        "# Función para cargar y preprocesar una imagen\n",
        "def load_and_preprocess_image(file_path):\n",
        "    image = cv2.imread(file_path, cv2.IMREAD_GRAYSCALE)  # Leer la imagen en escala de grises\n",
        "    image = cv2.resize(image, (28, 28))  # Redimensionar la imagen al tamaño requerido por el modelo\n",
        "    image = image.astype(np.float32) / 255.0  # Normalizar la imagen\n",
        "    image = np.expand_dims(image, axis=0)  # Añadir una dimensión extra para indicar el tamaño del batch\n",
        "    return image\n",
        "\n",
        "# Obtener la lista de archivos en la carpeta\n",
        "image_files = os.listdir(folder_path)\n",
        "\n",
        "# Iterar sobre cada archivo de imagen\n",
        "for file_name in image_files:\n",
        "    if file_name.endswith('.jpg') or file_name.endswith('.png'):\n",
        "        file_path = os.path.join(folder_path, file_name)\n",
        "\n",
        "        # Cargar y preprocesar la imagen\n",
        "        image = load_and_preprocess_image(file_path)\n",
        "\n",
        "        # Realizar la predicción\n",
        "        predictions = model.predict(image)\n",
        "        predicted_class = np.argmax(predictions)\n",
        "\n",
        "        # Mostrar el resultado\n",
        "        print(f\"La imagen {file_name} fue clasificada como el dígito: {predicted_class}\")"
      ],
      "metadata": {
        "colab": {
          "base_uri": "https://localhost:8080/"
        },
        "id": "hqJ57oiGz2Wx",
        "outputId": "cf555573-82bf-4049-d874-5ac3dfa28a7d"
      },
      "execution_count": 19,
      "outputs": [
        {
          "output_type": "stream",
          "name": "stdout",
          "text": [
            "1/1 [==============================] - 0s 34ms/step\n",
            "La imagen 9.jpg fue clasificada como el dígito: 9\n",
            "1/1 [==============================] - 0s 38ms/step\n",
            "La imagen 5.jpg fue clasificada como el dígito: 5\n",
            "1/1 [==============================] - 0s 30ms/step\n",
            "La imagen 4.jpg fue clasificada como el dígito: 4\n",
            "1/1 [==============================] - 0s 32ms/step\n",
            "La imagen 7.jpg fue clasificada como el dígito: 7\n",
            "1/1 [==============================] - 0s 39ms/step\n",
            "La imagen 3.jpg fue clasificada como el dígito: 3\n",
            "1/1 [==============================] - 0s 21ms/step\n",
            "La imagen 6.jpg fue clasificada como el dígito: 6\n",
            "1/1 [==============================] - 0s 22ms/step\n",
            "La imagen 2.jpg fue clasificada como el dígito: 2\n",
            "1/1 [==============================] - 0s 20ms/step\n",
            "La imagen 8.jpg fue clasificada como el dígito: 8\n",
            "1/1 [==============================] - 0s 22ms/step\n",
            "La imagen 1.jpg fue clasificada como el dígito: 1\n"
          ]
        }
      ]
    }
  ]
}